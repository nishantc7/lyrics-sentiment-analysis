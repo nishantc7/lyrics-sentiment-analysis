{
 "cells": [
  {
   "cell_type": "code",
   "execution_count": 4,
   "metadata": {},
   "outputs": [],
   "source": [
    "artist = \"the weeknd\"\n",
    "song_name = \"the hills\""
   ]
  },
  {
   "cell_type": "code",
   "execution_count": 5,
   "metadata": {},
   "outputs": [],
   "source": [
    "import lyricwikia\n",
    "import re\n",
    "import io\n",
    "import matplotlib.pyplot as plt\n",
    "import pandas as pd\n",
    "try:\n",
    "    # Find Lyrics by changing the artist name and song name\n",
    "    lyrics = lyricwikia.get_lyrics(artist, song_name)\n",
    "except:\n",
    "    print(\"Lyrics Not Found\")\n",
    "# Remove Commas\n",
    "lyrics = re.sub(r\"/[.,\\s]/g\", \"\", lyrics)\n",
    "lyrics = re.sub(\",\", \"\", lyrics)\n",
    "# Replace - by space\n",
    "\n",
    "# print(lyrics)"
   ]
  },
  {
   "cell_type": "code",
   "execution_count": 6,
   "metadata": {
    "scrolled": true
   },
   "outputs": [
    {
     "name": "stdout",
     "output_type": "stream",
     "text": [
      "11.76470588235294\n"
     ]
    }
   ],
   "source": [
    "from nltk.sentiment.vader import SentimentIntensityAnalyzer\n",
    "num_positive = 0\n",
    "num_negative = 0\n",
    "num_neutral = 0\n",
    "sid = SentimentIntensityAnalyzer()\n",
    "f = io.StringIO(lyrics)\n",
    "for sentence in f.readlines():\n",
    "        this_sentence = sentence\n",
    "        comp = sid.polarity_scores(this_sentence)\n",
    "        comp = comp['compound']\n",
    "        if comp >= 0.5:\n",
    "            num_positive += 1\n",
    "        elif comp > -0.5 and comp < 0.5:\n",
    "            num_neutral += 1\n",
    "        else:\n",
    "            num_negative += 1\n",
    "\n",
    "num_total = num_negative + num_neutral + num_positive\n",
    "percent_negative = (num_negative/float(num_total))*100\n",
    "percent_neutral = (num_neutral/float(num_total))*100\n",
    "percent_positive = (num_positive/float(num_total))*100\n",
    "print(percent_positive)\n",
    "df = pd.DataFrame(columns=('Song', 'pos', 'neu', 'neg'))\n",
    "\n",
    "# df.plot.bar(x='artist', stacked=True)\n",
    "# plt.show()          \n"
   ]
  },
  {
   "cell_type": "code",
   "execution_count": 7,
   "metadata": {},
   "outputs": [
    {
     "data": {
      "image/png": "[encoded data removed]",
      "text/plain": [
       "<Figure size 432x288 with 1 Axes>"
      ]
     },
     "metadata": {},
     "output_type": "display_data"
    }
   ],
   "source": [
    "# Pie Chart\n",
    "labels = ['Positive', 'Negetive', 'Neutral']\n",
    "sizes = [percent_positive, percent_negative, percent_neutral]\n",
    "fig1, ax1 = plt.subplots()\n",
    "ax1.pie(sizes, labels=labels, autopct='%1.1f%%',\n",
    "        shadow=True, startangle=90)\n",
    "# Equal aspect ratio ensures that pie is drawn as a circle\n",
    "ax1.axis('equal')  \n",
    "plt.tight_layout()\n",
    "plt.show()"
   ]
  },
  {
   "cell_type": "code",
   "execution_count": null,
   "metadata": {},
   "outputs": [],
   "source": []
  }
 ],
 "metadata": {
  "kernelspec": {
   "display_name": "Python 3",
   "language": "python",
   "name": "python3"
  },
  "language_info": {
   "codemirror_mode": {
    "name": "ipython",
    "version": 3
   },
   "file_extension": ".py",
   "mimetype": "text/x-python",
   "name": "python",
   "nbconvert_exporter": "python",
   "pygments_lexer": "ipython3",
   "version": "3.7.4"
  }
 },
 "nbformat": 4,
 "nbformat_minor": 2
}
